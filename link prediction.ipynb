{
 "cells": [
  {
   "cell_type": "code",
   "execution_count": 150,
   "metadata": {
    "colab": {
     "base_uri": "https://localhost:8080/",
     "height": 529
    },
    "id": "EjQF77dlUeoG",
    "outputId": "a736ec88-77a3-4b13-8566-876e134507e4"
   },
   "outputs": [],
   "source": [
    "import itertools\n",
    "import os\n",
    "\n",
    "os.environ[\"DGLBACKEND\"] = \"pytorch\"\n",
    "\n",
    "import dgl\n",
    "import dgl.data\n",
    "import numpy as np\n",
    "import scipy.sparse as sp\n",
    "import torch\n",
    "import torch.nn as nn\n",
    "import torch.nn.functional as F"
   ]
  },
  {
   "cell_type": "code",
   "execution_count": 151,
   "metadata": {
    "id": "wUT9EpPHUeoH"
   },
   "outputs": [],
   "source": [
    "from dgl.data.utils import load_graphs\n",
    "glist, label_dict = load_graphs(\"data/graph.bin\")\n",
    "g = glist[0]"
   ]
  },
  {
   "cell_type": "code",
   "execution_count": 152,
   "metadata": {
    "id": "iHsjASEQUeoH"
   },
   "outputs": [],
   "source": [
    "u, v = g.edges()\n",
    "\n",
    "eids = np.arange(g.num_edges())\n",
    "eids = np.random.permutation(eids)\n",
    "test_size = int(len(eids) * 0.1)\n",
    "train_size = g.num_edges() - test_size\n",
    "test_pos_u, test_pos_v = u[eids[:test_size]], v[eids[:test_size]]\n",
    "train_pos_u, train_pos_v = u[eids[test_size:]], v[eids[test_size:]]\n",
    "\n",
    "adj = sp.coo_matrix((np.ones(len(u)), (u.numpy(), v.numpy())), shape=(g.num_nodes(), g.num_nodes()))\n",
    "adj_neg = 1 - adj.todense() - np.eye(g.num_nodes())\n",
    "neg_u, neg_v = np.where(adj_neg != 0)\n",
    "\n",
    "neg_eids = np.random.choice(len(neg_u), g.num_edges())\n",
    "test_neg_u, test_neg_v = (\n",
    "    neg_u[neg_eids[:test_size]],\n",
    "    neg_v[neg_eids[:test_size]],\n",
    ")\n",
    "train_neg_u, train_neg_v = (\n",
    "    neg_u[neg_eids[test_size:]],\n",
    "    neg_v[neg_eids[test_size:]],\n",
    ")"
   ]
  },
  {
   "cell_type": "code",
   "execution_count": 153,
   "metadata": {
    "id": "NQ9oeSAhUeoH"
   },
   "outputs": [],
   "source": [
    "train_g = dgl.remove_edges(g, eids[:test_size])"
   ]
  },
  {
   "cell_type": "code",
   "execution_count": 154,
   "metadata": {
    "id": "nsGBXO38UeoI"
   },
   "outputs": [],
   "source": [
    "from dgl.nn import SAGEConv\n",
    "from dgl.nn import GraphConv\n",
    "from dgl.nn import TAGConv"
   ]
  },
  {
   "cell_type": "code",
   "execution_count": 155,
   "metadata": {
    "id": "SThKTUPR7DpZ"
   },
   "outputs": [],
   "source": [
    "class GraphSAGE(nn.Module):\n",
    "    def __init__(self, in_feats, h_feats):\n",
    "        super(GraphSAGE, self).__init__()\n",
    "        self.conv1 = SAGEConv(in_feats, h_feats, \"mean\")\n",
    "        self.conv2 = SAGEConv(h_feats, h_feats, \"mean\")\n",
    "\n",
    "    def forward(self, g, in_feat):\n",
    "        h = self.conv1(g, in_feat)\n",
    "        h = F.relu(h)\n",
    "        h = self.conv2(g, h)\n",
    "        return h"
   ]
  },
  {
   "cell_type": "code",
   "execution_count": 156,
   "metadata": {},
   "outputs": [],
   "source": [
    "class GraphCon(nn.Module):\n",
    "    def __init__(self, in_feats, h_feats):\n",
    "        super(GraphCon, self).__init__()\n",
    "        self.conv1 = GraphConv(in_feats, h_feats, allow_zero_in_degree=True)\n",
    "        self.conv2 = GraphConv(h_feats, h_feats, allow_zero_in_degree=True)\n",
    "\n",
    "    def forward(self, g, in_feat):\n",
    "        h = self.conv1(g, in_feat)\n",
    "        h = F.relu(h)\n",
    "        h = self.conv2(g, h)\n",
    "        return h"
   ]
  },
  {
   "cell_type": "code",
   "execution_count": 157,
   "metadata": {},
   "outputs": [],
   "source": [
    "class TAGCon(nn.Module):\n",
    "    def __init__(self, in_feats, h_feats):\n",
    "        super(TAGCon, self).__init__()\n",
    "        self.conv1 = TAGConv(in_feats, h_feats)\n",
    "        self.conv2 = TAGConv(h_feats, h_feats)\n",
    "\n",
    "    def forward(self, g, in_feat):\n",
    "        h = self.conv1(g, in_feat)\n",
    "        h = F.relu(h)\n",
    "        h = self.conv2(g, h)\n",
    "        return h"
   ]
  },
  {
   "cell_type": "code",
   "execution_count": 158,
   "metadata": {
    "id": "Iph9vVhWUeoI"
   },
   "outputs": [],
   "source": [
    "train_pos_g = dgl.graph((train_pos_u, train_pos_v), num_nodes=g.num_nodes())\n",
    "train_neg_g = dgl.graph((train_neg_u, train_neg_v), num_nodes=g.num_nodes())\n",
    "\n",
    "test_pos_g = dgl.graph((test_pos_u, test_pos_v), num_nodes=g.num_nodes())\n",
    "test_neg_g = dgl.graph((test_neg_u, test_neg_v), num_nodes=g.num_nodes())"
   ]
  },
  {
   "cell_type": "code",
   "execution_count": 159,
   "metadata": {
    "id": "CPxYr4mfUeoJ"
   },
   "outputs": [],
   "source": [
    "import dgl.function as fn\n",
    "\n",
    "\n",
    "class DotPredictor(nn.Module):\n",
    "    def forward(self, g, h):\n",
    "        with g.local_scope():\n",
    "            g.ndata[\"h\"] = h\n",
    "            g.apply_edges(fn.u_dot_v(\"h\", \"h\", \"score\"))\n",
    "\n",
    "            return g.edata[\"score\"][:, 0]"
   ]
  },
  {
   "cell_type": "code",
   "execution_count": 160,
   "metadata": {
    "id": "GAGXeipLUeoJ"
   },
   "outputs": [],
   "source": [
    "model = GraphSAGE(train_g.ndata[\"emb\"].shape[1], 16)\n",
    "pred = DotPredictor()\n",
    "\n",
    "\n",
    "def compute_loss(pos_score, neg_score):\n",
    "    scores = torch.cat([pos_score, neg_score])\n",
    "    labels = torch.cat(\n",
    "        [torch.ones(pos_score.shape[0]), torch.zeros(neg_score.shape[0])]\n",
    "    )\n",
    "    return F.binary_cross_entropy_with_logits(scores, labels)\n",
    "\n",
    "\n",
    "def compute_auc(pos_score, neg_score):\n",
    "    scores = torch.cat([pos_score, neg_score]).numpy()\n",
    "    labels = torch.cat(\n",
    "        [torch.ones(pos_score.shape[0]), torch.zeros(neg_score.shape[0])]\n",
    "    ).numpy()\n",
    "    return roc_auc_score(labels, scores)"
   ]
  },
  {
   "cell_type": "code",
   "execution_count": 161,
   "metadata": {
    "id": "AJyFqUIhUeoJ"
   },
   "outputs": [
    {
     "name": "stdout",
     "output_type": "stream",
     "text": [
      "In epoch 0, loss: 0.7025274038314819\n",
      "In epoch 5, loss: 0.6891184449195862\n",
      "In epoch 10, loss: 0.6711958050727844\n",
      "In epoch 15, loss: 0.6347291469573975\n",
      "In epoch 20, loss: 0.6017602682113647\n",
      "In epoch 25, loss: 0.5935764908790588\n",
      "In epoch 30, loss: 0.5786384344100952\n",
      "In epoch 35, loss: 0.562750518321991\n",
      "In epoch 40, loss: 0.5508080124855042\n",
      "In epoch 45, loss: 0.5407263040542603\n",
      "In epoch 50, loss: 0.5311369895935059\n",
      "In epoch 55, loss: 0.5224345326423645\n",
      "In epoch 60, loss: 0.5143236517906189\n",
      "In epoch 65, loss: 0.5061624646186829\n",
      "In epoch 70, loss: 0.4979434013366699\n",
      "In epoch 75, loss: 0.4902074337005615\n",
      "In epoch 80, loss: 0.48249560594558716\n",
      "In epoch 85, loss: 0.47404178977012634\n",
      "In epoch 90, loss: 0.46579375863075256\n",
      "In epoch 95, loss: 0.45714643597602844\n",
      "AUC 0.7216037155931971\n"
     ]
    }
   ],
   "source": [
    "\n",
    "optimizer = torch.optim.Adam(\n",
    "    itertools.chain(model.parameters(), pred.parameters()), lr=0.01\n",
    ")\n",
    "\n",
    "\n",
    "all_logits = []\n",
    "for e in range(100):\n",
    "\n",
    "    h = model(train_g, train_g.ndata[\"emb\"])\n",
    "    pos_score = pred(train_pos_g, h)\n",
    "    neg_score = pred(train_neg_g, h)\n",
    "    loss = compute_loss(pos_score, neg_score)\n",
    "\n",
    "    optimizer.zero_grad()\n",
    "    loss.backward()\n",
    "    optimizer.step()\n",
    "\n",
    "    if e % 5 == 0:\n",
    "        print(\"In epoch {}, loss: {}\".format(e, loss))\n",
    "\n",
    "from sklearn.metrics import roc_auc_score\n",
    "\n",
    "with torch.no_grad():\n",
    "    pos_score = pred(test_pos_g, h)\n",
    "    neg_score = pred(test_neg_g, h)\n",
    "    print(\"AUC\", compute_auc(pos_score, neg_score))\n",
    "\n"
   ]
  },
  {
   "cell_type": "code",
   "execution_count": 162,
   "metadata": {
    "colab": {
     "base_uri": "https://localhost:8080/"
    },
    "id": "IjnIbPvmW3EU",
    "outputId": "09aa08e7-3f1f-46a9-a0ce-2d9496285fc7"
   },
   "outputs": [
    {
     "data": {
      "text/plain": [
       "GraphSAGE(\n",
       "  (conv1): SAGEConv(\n",
       "    (feat_drop): Dropout(p=0.0, inplace=False)\n",
       "    (fc_neigh): Linear(in_features=2000, out_features=16, bias=False)\n",
       "    (fc_self): Linear(in_features=2000, out_features=16, bias=True)\n",
       "  )\n",
       "  (conv2): SAGEConv(\n",
       "    (feat_drop): Dropout(p=0.0, inplace=False)\n",
       "    (fc_neigh): Linear(in_features=16, out_features=16, bias=False)\n",
       "    (fc_self): Linear(in_features=16, out_features=16, bias=True)\n",
       "  )\n",
       ")"
      ]
     },
     "execution_count": 162,
     "metadata": {},
     "output_type": "execute_result"
    }
   ],
   "source": [
    "model.eval()"
   ]
  },
  {
   "cell_type": "code",
   "execution_count": 163,
   "metadata": {},
   "outputs": [
    {
     "name": "stdout",
     "output_type": "stream",
     "text": [
      "In epoch 0, loss: 0.6931450963020325\n",
      "In epoch 5, loss: 0.6886709332466125\n",
      "In epoch 10, loss: 0.6843879222869873\n",
      "In epoch 15, loss: 0.6799452304840088\n",
      "In epoch 20, loss: 0.6751540899276733\n",
      "In epoch 25, loss: 0.6694871187210083\n",
      "In epoch 30, loss: 0.6640515923500061\n",
      "In epoch 35, loss: 0.6610668301582336\n",
      "In epoch 40, loss: 0.6585425138473511\n",
      "In epoch 45, loss: 0.6563031077384949\n",
      "In epoch 50, loss: 0.654927134513855\n",
      "In epoch 55, loss: 0.6536017656326294\n",
      "In epoch 60, loss: 0.6524854302406311\n",
      "In epoch 65, loss: 0.6513131260871887\n",
      "In epoch 70, loss: 0.6500329375267029\n",
      "In epoch 75, loss: 0.6486531496047974\n",
      "In epoch 80, loss: 0.6471423506736755\n",
      "In epoch 85, loss: 0.6453968286514282\n",
      "In epoch 90, loss: 0.6433255076408386\n",
      "In epoch 95, loss: 0.6407319903373718\n",
      "AUC 0.5450788880540947\n"
     ]
    }
   ],
   "source": [
    "model2 = GraphCon(train_g.ndata[\"emb\"].shape[1], 16)\n",
    "\n",
    "optimizer = torch.optim.Adam(\n",
    "    itertools.chain(model2.parameters(), pred.parameters()), lr=0.01\n",
    ")\n",
    "\n",
    "\n",
    "all_logits = []\n",
    "for e in range(100):\n",
    "\n",
    "    h = model2(train_g, train_g.ndata[\"emb\"])\n",
    "    pos_score = pred(train_pos_g, h)\n",
    "    neg_score = pred(train_neg_g, h)\n",
    "    loss = compute_loss(pos_score, neg_score)\n",
    "\n",
    "\n",
    "    optimizer.zero_grad()\n",
    "    loss.backward()\n",
    "    optimizer.step()\n",
    "\n",
    "    if e % 5 == 0:\n",
    "        print(\"In epoch {}, loss: {}\".format(e, loss))\n",
    "\n",
    "\n",
    "from sklearn.metrics import roc_auc_score\n",
    "\n",
    "with torch.no_grad():\n",
    "    pos_score = pred(test_pos_g, h)\n",
    "    neg_score = pred(test_neg_g, h)\n",
    "    print(\"AUC\", compute_auc(pos_score, neg_score))\n",
    "\n"
   ]
  },
  {
   "cell_type": "code",
   "execution_count": 164,
   "metadata": {},
   "outputs": [
    {
     "data": {
      "text/plain": [
       "GraphCon(\n",
       "  (conv1): GraphConv(in=2000, out=16, normalization=both, activation=None)\n",
       "  (conv2): GraphConv(in=16, out=16, normalization=both, activation=None)\n",
       ")"
      ]
     },
     "execution_count": 164,
     "metadata": {},
     "output_type": "execute_result"
    }
   ],
   "source": [
    "model2.eval()"
   ]
  },
  {
   "cell_type": "code",
   "execution_count": 165,
   "metadata": {},
   "outputs": [
    {
     "name": "stdout",
     "output_type": "stream",
     "text": [
      "In epoch 0, loss: 0.6966722011566162\n",
      "In epoch 5, loss: 0.6638185381889343\n",
      "In epoch 10, loss: 0.6165475845336914\n",
      "In epoch 15, loss: 0.5894635915756226\n",
      "In epoch 20, loss: 0.5572670102119446\n",
      "In epoch 25, loss: 0.545167863368988\n",
      "In epoch 30, loss: 0.5274288058280945\n",
      "In epoch 35, loss: 0.5133000612258911\n",
      "In epoch 40, loss: 0.4966680109500885\n",
      "In epoch 45, loss: 0.4836604595184326\n",
      "In epoch 50, loss: 0.4713948965072632\n",
      "In epoch 55, loss: 0.4578739404678345\n",
      "In epoch 60, loss: 0.44528281688690186\n",
      "In epoch 65, loss: 0.4332646429538727\n",
      "In epoch 70, loss: 0.4220663607120514\n",
      "In epoch 75, loss: 0.41084206104278564\n",
      "In epoch 80, loss: 0.3990665078163147\n",
      "In epoch 85, loss: 0.3871052861213684\n",
      "In epoch 90, loss: 0.3750072717666626\n",
      "In epoch 95, loss: 0.36377424001693726\n",
      "AUC 0.705143091318899\n"
     ]
    }
   ],
   "source": [
    "model3 = TAGCon(train_g.ndata[\"emb\"].shape[1], 16)\n",
    "\n",
    "optimizer = torch.optim.Adam(\n",
    "    itertools.chain(model3.parameters(), pred.parameters()), lr=0.01\n",
    ")\n",
    "\n",
    "\n",
    "all_logits = []\n",
    "for e in range(100):\n",
    "    \n",
    "    h = model3(train_g, train_g.ndata[\"emb\"])\n",
    "    pos_score = pred(train_pos_g, h)\n",
    "    neg_score = pred(train_neg_g, h)\n",
    "    loss = compute_loss(pos_score, neg_score)\n",
    "\n",
    "\n",
    "    optimizer.zero_grad()\n",
    "    loss.backward()\n",
    "    optimizer.step()\n",
    "\n",
    "    if e % 5 == 0:\n",
    "        print(\"In epoch {}, loss: {}\".format(e, loss))\n",
    "\n",
    "\n",
    "from sklearn.metrics import roc_auc_score\n",
    "\n",
    "with torch.no_grad():\n",
    "    pos_score = pred(test_pos_g, h)\n",
    "    neg_score = pred(test_neg_g, h)\n",
    "    print(\"AUC\", compute_auc(pos_score, neg_score))\n"
   ]
  },
  {
   "cell_type": "code",
   "execution_count": 166,
   "metadata": {},
   "outputs": [
    {
     "data": {
      "text/plain": [
       "TAGCon(\n",
       "  (conv1): TAGConv(\n",
       "    (lin): Linear(in_features=6000, out_features=16, bias=True)\n",
       "  )\n",
       "  (conv2): TAGConv(\n",
       "    (lin): Linear(in_features=48, out_features=16, bias=True)\n",
       "  )\n",
       ")"
      ]
     },
     "execution_count": 166,
     "metadata": {},
     "output_type": "execute_result"
    }
   ],
   "source": [
    "model3.eval()"
   ]
  },
  {
   "cell_type": "code",
   "execution_count": null,
   "metadata": {},
   "outputs": [],
   "source": []
  },
  {
   "cell_type": "code",
   "execution_count": 167,
   "metadata": {},
   "outputs": [],
   "source": [
    "glist, label_dict = load_graphs(\"data/graph_pred.bin\")\n",
    "g_pred = glist[0]"
   ]
  },
  {
   "cell_type": "code",
   "execution_count": 168,
   "metadata": {},
   "outputs": [
    {
     "data": {
      "text/plain": [
       "Graph(num_nodes=804, num_edges=15680,\n",
       "      ndata_schemes={'emb': Scheme(shape=(2000,), dtype=torch.float32), 'label': Scheme(shape=(), dtype=torch.int64)}\n",
       "      edata_schemes={})"
      ]
     },
     "execution_count": 168,
     "metadata": {},
     "output_type": "execute_result"
    }
   ],
   "source": [
    "g_pred"
   ]
  },
  {
   "cell_type": "code",
   "execution_count": 186,
   "metadata": {},
   "outputs": [],
   "source": [
    "h = model(g_pred, g_pred.ndata[\"emb\"])\n",
    "p = pred(g_pred, h)"
   ]
  },
  {
   "cell_type": "code",
   "execution_count": 187,
   "metadata": {},
   "outputs": [
    {
     "data": {
      "text/plain": [
       "torch.Size([15680])"
      ]
     },
     "execution_count": 187,
     "metadata": {},
     "output_type": "execute_result"
    }
   ],
   "source": [
    "p.shape"
   ]
  },
  {
   "cell_type": "code",
   "execution_count": 188,
   "metadata": {},
   "outputs": [],
   "source": [
    "probs = torch.sigmoid(p)"
   ]
  },
  {
   "cell_type": "code",
   "execution_count": 189,
   "metadata": {},
   "outputs": [],
   "source": [
    "probs = probs.reshape(20, -1)"
   ]
  },
  {
   "cell_type": "code",
   "execution_count": 190,
   "metadata": {},
   "outputs": [],
   "source": [
    "edge_ids = probs.argmax(dim=1)"
   ]
  },
  {
   "cell_type": "code",
   "execution_count": 191,
   "metadata": {},
   "outputs": [],
   "source": [
    "comp_prob_post = []"
   ]
  },
  {
   "cell_type": "code",
   "execution_count": 192,
   "metadata": {},
   "outputs": [],
   "source": [
    "emb_post = []"
   ]
  },
  {
   "cell_type": "code",
   "execution_count": 193,
   "metadata": {},
   "outputs": [],
   "source": [
    "for i in range(len(edge_ids)):\n",
    "    comp_label = g_pred.ndata['label'][i].item()\n",
    "    post_id = g_pred.edges()[1][edge_ids[i]].item()\n",
    "    post_label = g_pred.ndata['label'][post_id].item()\n",
    "    porb = probs[i][edge_ids[i]].item()\n",
    "    cpp = [comp_label, porb, post_label]\n",
    "    comp_prob_post.append(cpp)\n",
    "    emb_post.append(g.ndata['emb'][post_id].numpy())\n",
    "comp_prob_post = np.array(comp_prob_post)"
   ]
  },
  {
   "cell_type": "code",
   "execution_count": 194,
   "metadata": {},
   "outputs": [
    {
     "data": {
      "text/plain": [
       "array([[1.00000000e+03, 9.64171469e-01, 4.91000000e+02],\n",
       "       [1.00100000e+03, 9.64041710e-01, 6.01000000e+02],\n",
       "       [1.00200000e+03, 8.67682517e-01, 4.91000000e+02],\n",
       "       [1.00300000e+03, 9.62050617e-01, 1.95000000e+02],\n",
       "       [1.00400000e+03, 7.27043450e-01, 1.46000000e+02],\n",
       "       [1.00500000e+03, 7.11575150e-01, 4.50000000e+02],\n",
       "       [1.00600000e+03, 9.51568127e-01, 4.91000000e+02],\n",
       "       [1.00700000e+03, 8.44812691e-01, 4.91000000e+02],\n",
       "       [1.00800000e+03, 7.78629184e-01, 6.17000000e+02],\n",
       "       [1.00900000e+03, 9.81292665e-01, 6.01000000e+02],\n",
       "       [1.01000000e+03, 8.25508296e-01, 4.91000000e+02],\n",
       "       [1.01100000e+03, 9.45416510e-01, 1.95000000e+02],\n",
       "       [1.01200000e+03, 9.63764906e-01, 4.91000000e+02],\n",
       "       [1.01300000e+03, 9.09833670e-01, 4.91000000e+02],\n",
       "       [1.01400000e+03, 9.46924806e-01, 4.91000000e+02],\n",
       "       [1.01500000e+03, 9.62319434e-01, 1.95000000e+02],\n",
       "       [1.01600000e+03, 9.55627382e-01, 4.91000000e+02],\n",
       "       [1.01700000e+03, 6.99023783e-01, 2.41000000e+02],\n",
       "       [1.01800000e+03, 9.44201410e-01, 4.91000000e+02],\n",
       "       [1.01900000e+03, 8.19570899e-01, 4.91000000e+02]])"
      ]
     },
     "execution_count": 194,
     "metadata": {},
     "output_type": "execute_result"
    }
   ],
   "source": [
    "comp_prob_post"
   ]
  },
  {
   "cell_type": "code",
   "execution_count": 195,
   "metadata": {},
   "outputs": [],
   "source": [
    "import pandas as pd"
   ]
  },
  {
   "cell_type": "code",
   "execution_count": 196,
   "metadata": {},
   "outputs": [],
   "source": [
    "label_df = pd.read_csv('data/label_df.csv')"
   ]
  },
  {
   "cell_type": "code",
   "execution_count": 197,
   "metadata": {},
   "outputs": [
    {
     "data": {
      "text/html": [
       "<div>\n",
       "<style scoped>\n",
       "    .dataframe tbody tr th:only-of-type {\n",
       "        vertical-align: middle;\n",
       "    }\n",
       "\n",
       "    .dataframe tbody tr th {\n",
       "        vertical-align: top;\n",
       "    }\n",
       "\n",
       "    .dataframe thead th {\n",
       "        text-align: right;\n",
       "    }\n",
       "</style>\n",
       "<table border=\"1\" class=\"dataframe\">\n",
       "  <thead>\n",
       "    <tr style=\"text-align: right;\">\n",
       "      <th></th>\n",
       "      <th>id</th>\n",
       "      <th>name</th>\n",
       "    </tr>\n",
       "  </thead>\n",
       "  <tbody>\n",
       "    <tr>\n",
       "      <th>0</th>\n",
       "      <td>1000</td>\n",
       "      <td>ООО \"БЕЛДОРСТРОЙ\"</td>\n",
       "    </tr>\n",
       "    <tr>\n",
       "      <th>1</th>\n",
       "      <td>1001</td>\n",
       "      <td>МУНИЦИПАЛЬНОЕ БЮДЖЕТНОЕ\\nУЧРЕЖДЕНИЕ \"БЛАГОУСТР...</td>\n",
       "    </tr>\n",
       "    <tr>\n",
       "      <th>2</th>\n",
       "      <td>1002</td>\n",
       "      <td>ООО \"СК РЕМСТРОЙСЕРВИС\"</td>\n",
       "    </tr>\n",
       "    <tr>\n",
       "      <th>3</th>\n",
       "      <td>1003</td>\n",
       "      <td>ООО \"ОЗТП\"</td>\n",
       "    </tr>\n",
       "    <tr>\n",
       "      <th>4</th>\n",
       "      <td>1004</td>\n",
       "      <td>ООО \"ВМПАВТО\"</td>\n",
       "    </tr>\n",
       "    <tr>\n",
       "      <th>5</th>\n",
       "      <td>1005</td>\n",
       "      <td>ООО \"ЛЕНКОМСТРОЙ\"</td>\n",
       "    </tr>\n",
       "    <tr>\n",
       "      <th>6</th>\n",
       "      <td>1006</td>\n",
       "      <td>ООО \"ГС ГРУПП\"</td>\n",
       "    </tr>\n",
       "    <tr>\n",
       "      <th>7</th>\n",
       "      <td>1007</td>\n",
       "      <td>ООО \"ГД РАША\"</td>\n",
       "    </tr>\n",
       "    <tr>\n",
       "      <th>8</th>\n",
       "      <td>1008</td>\n",
       "      <td>ООО \"ТТЦ \"ФОЛИУМ\"</td>\n",
       "    </tr>\n",
       "    <tr>\n",
       "      <th>9</th>\n",
       "      <td>1009</td>\n",
       "      <td>ООО \"ПК \"СТЕКЛОКОМПОЗИТ\"</td>\n",
       "    </tr>\n",
       "    <tr>\n",
       "      <th>10</th>\n",
       "      <td>1010</td>\n",
       "      <td>ОАНО ВО \"МОСТЕХ\"</td>\n",
       "    </tr>\n",
       "    <tr>\n",
       "      <th>11</th>\n",
       "      <td>1011</td>\n",
       "      <td>ООО \"АГРО ИНВЕСТ\"</td>\n",
       "    </tr>\n",
       "    <tr>\n",
       "      <th>12</th>\n",
       "      <td>1012</td>\n",
       "      <td>ОБЩЕСТВО С ОГРАНИЧЕННОЙ\\nОТВЕТСТВЕННОСТЬЮ \"АСП...</td>\n",
       "    </tr>\n",
       "    <tr>\n",
       "      <th>13</th>\n",
       "      <td>1013</td>\n",
       "      <td>ФЕДЕРАЛЬНОЕ ГОСУДАРСТВЕННОЕ БЮДЖЕТНОЕ УЧРЕЖДЕН...</td>\n",
       "    </tr>\n",
       "    <tr>\n",
       "      <th>14</th>\n",
       "      <td>1014</td>\n",
       "      <td>АО \"ГЕНЕРИУМ\"</td>\n",
       "    </tr>\n",
       "    <tr>\n",
       "      <th>15</th>\n",
       "      <td>1015</td>\n",
       "      <td>ООО \"СОНЗ РУС\"</td>\n",
       "    </tr>\n",
       "    <tr>\n",
       "      <th>16</th>\n",
       "      <td>1016</td>\n",
       "      <td>ОБЩЕСТВО С ОГРАНИЧЕННОЙ\\nОТВЕТСТВЕННОСТЬЮ \"ИНТ...</td>\n",
       "    </tr>\n",
       "    <tr>\n",
       "      <th>17</th>\n",
       "      <td>1017</td>\n",
       "      <td>ООО \"РПС\"</td>\n",
       "    </tr>\n",
       "    <tr>\n",
       "      <th>18</th>\n",
       "      <td>1018</td>\n",
       "      <td>ООО \"ТАЛАЙ\"</td>\n",
       "    </tr>\n",
       "    <tr>\n",
       "      <th>19</th>\n",
       "      <td>1019</td>\n",
       "      <td>ООО \"КСК МК\"</td>\n",
       "    </tr>\n",
       "  </tbody>\n",
       "</table>\n",
       "</div>"
      ],
      "text/plain": [
       "      id                                               name\n",
       "0   1000                                  ООО \"БЕЛДОРСТРОЙ\"\n",
       "1   1001  МУНИЦИПАЛЬНОЕ БЮДЖЕТНОЕ\\nУЧРЕЖДЕНИЕ \"БЛАГОУСТР...\n",
       "2   1002                            ООО \"СК РЕМСТРОЙСЕРВИС\"\n",
       "3   1003                                         ООО \"ОЗТП\"\n",
       "4   1004                                      ООО \"ВМПАВТО\"\n",
       "5   1005                                  ООО \"ЛЕНКОМСТРОЙ\"\n",
       "6   1006                                     ООО \"ГС ГРУПП\"\n",
       "7   1007                                      ООО \"ГД РАША\"\n",
       "8   1008                                  ООО \"ТТЦ \"ФОЛИУМ\"\n",
       "9   1009                           ООО \"ПК \"СТЕКЛОКОМПОЗИТ\"\n",
       "10  1010                                   ОАНО ВО \"МОСТЕХ\"\n",
       "11  1011                                  ООО \"АГРО ИНВЕСТ\"\n",
       "12  1012  ОБЩЕСТВО С ОГРАНИЧЕННОЙ\\nОТВЕТСТВЕННОСТЬЮ \"АСП...\n",
       "13  1013  ФЕДЕРАЛЬНОЕ ГОСУДАРСТВЕННОЕ БЮДЖЕТНОЕ УЧРЕЖДЕН...\n",
       "14  1014                                      АО \"ГЕНЕРИУМ\"\n",
       "15  1015                                     ООО \"СОНЗ РУС\"\n",
       "16  1016  ОБЩЕСТВО С ОГРАНИЧЕННОЙ\\nОТВЕТСТВЕННОСТЬЮ \"ИНТ...\n",
       "17  1017                                          ООО \"РПС\"\n",
       "18  1018                                        ООО \"ТАЛАЙ\"\n",
       "19  1019                                       ООО \"КСК МК\""
      ]
     },
     "execution_count": 197,
     "metadata": {},
     "output_type": "execute_result"
    }
   ],
   "source": [
    "label_df"
   ]
  },
  {
   "cell_type": "code",
   "execution_count": 198,
   "metadata": {},
   "outputs": [],
   "source": [
    "import pickle\n",
    "filename = 'data/encoder.sav'\n",
    "le = pickle.load(open(filename, 'rb')) "
   ]
  },
  {
   "cell_type": "code",
   "execution_count": 199,
   "metadata": {},
   "outputs": [],
   "source": [
    "comp_name = label_df['name'].values\n",
    "post_name = le.inverse_transform(comp_prob_post[:,2].astype(int))"
   ]
  },
  {
   "cell_type": "code",
   "execution_count": 200,
   "metadata": {},
   "outputs": [
    {
     "data": {
      "text/plain": [
       "array(['ООО \"БЕЛДОРСТРОЙ\"',\n",
       "       'МУНИЦИПАЛЬНОЕ БЮДЖЕТНОЕ\\nУЧРЕЖДЕНИЕ \"БЛАГОУСТРОЙСТВО\"',\n",
       "       'ООО \"СК РЕМСТРОЙСЕРВИС\"', 'ООО \"ОЗТП\"', 'ООО \"ВМПАВТО\"',\n",
       "       'ООО \"ЛЕНКОМСТРОЙ\"', 'ООО \"ГС ГРУПП\"', 'ООО \"ГД РАША\"',\n",
       "       'ООО \"ТТЦ \"ФОЛИУМ\"', 'ООО \"ПК \"СТЕКЛОКОМПОЗИТ\"',\n",
       "       'ОАНО ВО \"МОСТЕХ\"', 'ООО \"АГРО ИНВЕСТ\"',\n",
       "       'ОБЩЕСТВО С ОГРАНИЧЕННОЙ\\nОТВЕТСТВЕННОСТЬЮ \"АСПЕКТ\"',\n",
       "       'ФЕДЕРАЛЬНОЕ ГОСУДАРСТВЕННОЕ БЮДЖЕТНОЕ УЧРЕЖДЕНИЕ \"ПОЛИКЛИНИКА №1\" УПРАВЛЕНИЯ ДЕЛАМИ ПРЕЗИДЕНТА РОССИЙСКОЙ ФЕДЕРАЦИИ',\n",
       "       'АО \"ГЕНЕРИУМ\"', 'ООО \"СОНЗ РУС\"',\n",
       "       'ОБЩЕСТВО С ОГРАНИЧЕННОЙ\\nОТВЕТСТВЕННОСТЬЮ \"ИНТАКА\"', 'ООО \"РПС\"',\n",
       "       'ООО \"ТАЛАЙ\"', 'ООО \"КСК МК\"'], dtype=object)"
      ]
     },
     "execution_count": 200,
     "metadata": {},
     "output_type": "execute_result"
    }
   ],
   "source": [
    "comp_name"
   ]
  },
  {
   "cell_type": "code",
   "execution_count": 201,
   "metadata": {},
   "outputs": [
    {
     "data": {
      "text/plain": [
       "array(['ООО \"БАРИОН\"', 'ООО \"М-ТРАСТ\"', 'ООО \"БАРИОН\"', 'АО \"ТАЙФУН\"',\n",
       "       'АО \"НПО СТЕКЛОПЛАСТИК\"',\n",
       "       'ОБЩЕСТВО С ОГРАНИЧЕННОЙ ОТВЕТСТВЕННОСТЬЮ \"ЖИЛКОМСЕРВИС Г.ПЕТРОДВОРЦА\"',\n",
       "       'ООО \"БАРИОН\"', 'ООО \"БАРИОН\"', 'ООО \"МИНИМАКС\"', 'ООО \"М-ТРАСТ\"',\n",
       "       'ООО \"БАРИОН\"', 'АО \"ТАЙФУН\"', 'ООО \"БАРИОН\"', 'ООО \"БАРИОН\"',\n",
       "       'ООО \"БАРИОН\"', 'АО \"ТАЙФУН\"', 'ООО \"БАРИОН\"', 'АО ОЭС',\n",
       "       'ООО \"БАРИОН\"', 'ООО \"БАРИОН\"'], dtype='<U256')"
      ]
     },
     "execution_count": 201,
     "metadata": {},
     "output_type": "execute_result"
    }
   ],
   "source": [
    "post_name"
   ]
  },
  {
   "cell_type": "code",
   "execution_count": 204,
   "metadata": {},
   "outputs": [
    {
     "data": {
      "text/html": [
       "<div>\n",
       "<style scoped>\n",
       "    .dataframe tbody tr th:only-of-type {\n",
       "        vertical-align: middle;\n",
       "    }\n",
       "\n",
       "    .dataframe tbody tr th {\n",
       "        vertical-align: top;\n",
       "    }\n",
       "\n",
       "    .dataframe thead th {\n",
       "        text-align: right;\n",
       "    }\n",
       "</style>\n",
       "<table border=\"1\" class=\"dataframe\">\n",
       "  <thead>\n",
       "    <tr style=\"text-align: right;\">\n",
       "      <th></th>\n",
       "      <th>Заказчик</th>\n",
       "      <th>Исполнитель</th>\n",
       "      <th>Вероятность</th>\n",
       "    </tr>\n",
       "  </thead>\n",
       "  <tbody>\n",
       "    <tr>\n",
       "      <th>0</th>\n",
       "      <td>ООО \"БЕЛДОРСТРОЙ\"</td>\n",
       "      <td>ООО \"БАРИОН\"</td>\n",
       "      <td>0.964171</td>\n",
       "    </tr>\n",
       "    <tr>\n",
       "      <th>1</th>\n",
       "      <td>МУНИЦИПАЛЬНОЕ БЮДЖЕТНОЕ\\nУЧРЕЖДЕНИЕ \"БЛАГОУСТР...</td>\n",
       "      <td>ООО \"М-ТРАСТ\"</td>\n",
       "      <td>0.964042</td>\n",
       "    </tr>\n",
       "    <tr>\n",
       "      <th>2</th>\n",
       "      <td>ООО \"СК РЕМСТРОЙСЕРВИС\"</td>\n",
       "      <td>ООО \"БАРИОН\"</td>\n",
       "      <td>0.867683</td>\n",
       "    </tr>\n",
       "    <tr>\n",
       "      <th>3</th>\n",
       "      <td>ООО \"ОЗТП\"</td>\n",
       "      <td>АО \"ТАЙФУН\"</td>\n",
       "      <td>0.962051</td>\n",
       "    </tr>\n",
       "    <tr>\n",
       "      <th>4</th>\n",
       "      <td>ООО \"ВМПАВТО\"</td>\n",
       "      <td>АО \"НПО СТЕКЛОПЛАСТИК\"</td>\n",
       "      <td>0.727043</td>\n",
       "    </tr>\n",
       "    <tr>\n",
       "      <th>5</th>\n",
       "      <td>ООО \"ЛЕНКОМСТРОЙ\"</td>\n",
       "      <td>ОБЩЕСТВО С ОГРАНИЧЕННОЙ ОТВЕТСТВЕННОСТЬЮ \"ЖИЛК...</td>\n",
       "      <td>0.711575</td>\n",
       "    </tr>\n",
       "    <tr>\n",
       "      <th>6</th>\n",
       "      <td>ООО \"ГС ГРУПП\"</td>\n",
       "      <td>ООО \"БАРИОН\"</td>\n",
       "      <td>0.951568</td>\n",
       "    </tr>\n",
       "    <tr>\n",
       "      <th>7</th>\n",
       "      <td>ООО \"ГД РАША\"</td>\n",
       "      <td>ООО \"БАРИОН\"</td>\n",
       "      <td>0.844813</td>\n",
       "    </tr>\n",
       "    <tr>\n",
       "      <th>8</th>\n",
       "      <td>ООО \"ТТЦ \"ФОЛИУМ\"</td>\n",
       "      <td>ООО \"МИНИМАКС\"</td>\n",
       "      <td>0.778629</td>\n",
       "    </tr>\n",
       "    <tr>\n",
       "      <th>9</th>\n",
       "      <td>ООО \"ПК \"СТЕКЛОКОМПОЗИТ\"</td>\n",
       "      <td>ООО \"М-ТРАСТ\"</td>\n",
       "      <td>0.981293</td>\n",
       "    </tr>\n",
       "    <tr>\n",
       "      <th>10</th>\n",
       "      <td>ОАНО ВО \"МОСТЕХ\"</td>\n",
       "      <td>ООО \"БАРИОН\"</td>\n",
       "      <td>0.825508</td>\n",
       "    </tr>\n",
       "    <tr>\n",
       "      <th>11</th>\n",
       "      <td>ООО \"АГРО ИНВЕСТ\"</td>\n",
       "      <td>АО \"ТАЙФУН\"</td>\n",
       "      <td>0.945417</td>\n",
       "    </tr>\n",
       "    <tr>\n",
       "      <th>12</th>\n",
       "      <td>ОБЩЕСТВО С ОГРАНИЧЕННОЙ\\nОТВЕТСТВЕННОСТЬЮ \"АСП...</td>\n",
       "      <td>ООО \"БАРИОН\"</td>\n",
       "      <td>0.963765</td>\n",
       "    </tr>\n",
       "    <tr>\n",
       "      <th>13</th>\n",
       "      <td>ФЕДЕРАЛЬНОЕ ГОСУДАРСТВЕННОЕ БЮДЖЕТНОЕ УЧРЕЖДЕН...</td>\n",
       "      <td>ООО \"БАРИОН\"</td>\n",
       "      <td>0.909834</td>\n",
       "    </tr>\n",
       "    <tr>\n",
       "      <th>14</th>\n",
       "      <td>АО \"ГЕНЕРИУМ\"</td>\n",
       "      <td>ООО \"БАРИОН\"</td>\n",
       "      <td>0.946925</td>\n",
       "    </tr>\n",
       "    <tr>\n",
       "      <th>15</th>\n",
       "      <td>ООО \"СОНЗ РУС\"</td>\n",
       "      <td>АО \"ТАЙФУН\"</td>\n",
       "      <td>0.962319</td>\n",
       "    </tr>\n",
       "    <tr>\n",
       "      <th>16</th>\n",
       "      <td>ОБЩЕСТВО С ОГРАНИЧЕННОЙ\\nОТВЕТСТВЕННОСТЬЮ \"ИНТ...</td>\n",
       "      <td>ООО \"БАРИОН\"</td>\n",
       "      <td>0.955627</td>\n",
       "    </tr>\n",
       "    <tr>\n",
       "      <th>17</th>\n",
       "      <td>ООО \"РПС\"</td>\n",
       "      <td>АО ОЭС</td>\n",
       "      <td>0.699024</td>\n",
       "    </tr>\n",
       "    <tr>\n",
       "      <th>18</th>\n",
       "      <td>ООО \"ТАЛАЙ\"</td>\n",
       "      <td>ООО \"БАРИОН\"</td>\n",
       "      <td>0.944201</td>\n",
       "    </tr>\n",
       "    <tr>\n",
       "      <th>19</th>\n",
       "      <td>ООО \"КСК МК\"</td>\n",
       "      <td>ООО \"БАРИОН\"</td>\n",
       "      <td>0.819571</td>\n",
       "    </tr>\n",
       "  </tbody>\n",
       "</table>\n",
       "</div>"
      ],
      "text/plain": [
       "                                             Заказчик  \\\n",
       "0                                   ООО \"БЕЛДОРСТРОЙ\"   \n",
       "1   МУНИЦИПАЛЬНОЕ БЮДЖЕТНОЕ\\nУЧРЕЖДЕНИЕ \"БЛАГОУСТР...   \n",
       "2                             ООО \"СК РЕМСТРОЙСЕРВИС\"   \n",
       "3                                          ООО \"ОЗТП\"   \n",
       "4                                       ООО \"ВМПАВТО\"   \n",
       "5                                   ООО \"ЛЕНКОМСТРОЙ\"   \n",
       "6                                      ООО \"ГС ГРУПП\"   \n",
       "7                                       ООО \"ГД РАША\"   \n",
       "8                                   ООО \"ТТЦ \"ФОЛИУМ\"   \n",
       "9                            ООО \"ПК \"СТЕКЛОКОМПОЗИТ\"   \n",
       "10                                   ОАНО ВО \"МОСТЕХ\"   \n",
       "11                                  ООО \"АГРО ИНВЕСТ\"   \n",
       "12  ОБЩЕСТВО С ОГРАНИЧЕННОЙ\\nОТВЕТСТВЕННОСТЬЮ \"АСП...   \n",
       "13  ФЕДЕРАЛЬНОЕ ГОСУДАРСТВЕННОЕ БЮДЖЕТНОЕ УЧРЕЖДЕН...   \n",
       "14                                      АО \"ГЕНЕРИУМ\"   \n",
       "15                                     ООО \"СОНЗ РУС\"   \n",
       "16  ОБЩЕСТВО С ОГРАНИЧЕННОЙ\\nОТВЕТСТВЕННОСТЬЮ \"ИНТ...   \n",
       "17                                          ООО \"РПС\"   \n",
       "18                                        ООО \"ТАЛАЙ\"   \n",
       "19                                       ООО \"КСК МК\"   \n",
       "\n",
       "                                          Исполнитель Вероятность  \n",
       "0                                        ООО \"БАРИОН\"    0.964171  \n",
       "1                                       ООО \"М-ТРАСТ\"    0.964042  \n",
       "2                                        ООО \"БАРИОН\"    0.867683  \n",
       "3                                         АО \"ТАЙФУН\"    0.962051  \n",
       "4                              АО \"НПО СТЕКЛОПЛАСТИК\"    0.727043  \n",
       "5   ОБЩЕСТВО С ОГРАНИЧЕННОЙ ОТВЕТСТВЕННОСТЬЮ \"ЖИЛК...    0.711575  \n",
       "6                                        ООО \"БАРИОН\"    0.951568  \n",
       "7                                        ООО \"БАРИОН\"    0.844813  \n",
       "8                                      ООО \"МИНИМАКС\"    0.778629  \n",
       "9                                       ООО \"М-ТРАСТ\"    0.981293  \n",
       "10                                       ООО \"БАРИОН\"    0.825508  \n",
       "11                                        АО \"ТАЙФУН\"    0.945417  \n",
       "12                                       ООО \"БАРИОН\"    0.963765  \n",
       "13                                       ООО \"БАРИОН\"    0.909834  \n",
       "14                                       ООО \"БАРИОН\"    0.946925  \n",
       "15                                        АО \"ТАЙФУН\"    0.962319  \n",
       "16                                       ООО \"БАРИОН\"    0.955627  \n",
       "17                                             АО ОЭС    0.699024  \n",
       "18                                       ООО \"БАРИОН\"    0.944201  \n",
       "19                                       ООО \"БАРИОН\"    0.819571  "
      ]
     },
     "execution_count": 204,
     "metadata": {},
     "output_type": "execute_result"
    }
   ],
   "source": [
    "res_df = pd.DataFrame([comp_name, post_name, comp_prob_post[:, 1]]).T\\\n",
    "        .rename(columns = {0: 'Заказчик', 1: 'Исполнитель', 2: 'Вероятность'})\n",
    "res_df"
   ]
  },
  {
   "cell_type": "code",
   "execution_count": 380,
   "metadata": {},
   "outputs": [],
   "source": [
    "torch.save(model, 'data/model')"
   ]
  },
  {
   "cell_type": "code",
   "execution_count": 381,
   "metadata": {},
   "outputs": [
    {
     "data": {
      "text/plain": [
       "GraphSAGE(\n",
       "  (conv1): SAGEConv(\n",
       "    (feat_drop): Dropout(p=0.0, inplace=False)\n",
       "    (fc_neigh): Linear(in_features=2000, out_features=16, bias=False)\n",
       "    (fc_self): Linear(in_features=2000, out_features=16, bias=True)\n",
       "  )\n",
       "  (conv2): SAGEConv(\n",
       "    (feat_drop): Dropout(p=0.0, inplace=False)\n",
       "    (fc_neigh): Linear(in_features=16, out_features=16, bias=False)\n",
       "    (fc_self): Linear(in_features=16, out_features=16, bias=True)\n",
       "  )\n",
       ")"
      ]
     },
     "execution_count": 381,
     "metadata": {},
     "output_type": "execute_result"
    }
   ],
   "source": [
    "torch.load('data/model')"
   ]
  },
  {
   "cell_type": "code",
   "execution_count": null,
   "metadata": {},
   "outputs": [],
   "source": []
  }
 ],
 "metadata": {
  "accelerator": "GPU",
  "colab": {
   "gpuType": "T4",
   "provenance": []
  },
  "kernelspec": {
   "display_name": "Python 3 (ipykernel)",
   "language": "python",
   "name": "python3"
  },
  "language_info": {
   "codemirror_mode": {
    "name": "ipython",
    "version": 3
   },
   "file_extension": ".py",
   "mimetype": "text/x-python",
   "name": "python",
   "nbconvert_exporter": "python",
   "pygments_lexer": "ipython3",
   "version": "3.10.9"
  }
 },
 "nbformat": 4,
 "nbformat_minor": 1
}
